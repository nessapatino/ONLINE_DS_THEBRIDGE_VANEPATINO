{
 "cells": [
  {
   "cell_type": "markdown",
   "metadata": {},
   "source": [
    "![imagen](./img/ejercicios.png)"
   ]
  },
  {
   "cell_type": "markdown",
   "metadata": {},
   "source": [
    "# INFORMACIÓN DEL PROYECTO"
   ]
  },
  {
   "cell_type": "markdown",
   "metadata": {},
   "source": [
    "### TÍTULO"
   ]
  },
  {
   "cell_type": "markdown",
   "metadata": {},
   "source": [
    "# SINDROME METABOLICO"
   ]
  },
  {
   "cell_type": "markdown",
   "metadata": {},
   "source": [
    "### TEMA"
   ]
  },
  {
   "cell_type": "markdown",
   "metadata": {},
   "source": [
    "El síndrome metabólico es un conjunto de condiciones médicas que incluyen obesidad abdominal, presión arterial alta, niveles elevados de azúcar en sangre, alteraciones en los lípidos sanguíneos y resistencia a la insulina. Estos factores aumentan el riesgo de enfermedades cardíacas, diabetes tipo 2 y accidentes cerebrovasculares. Suele estar relacionado con el estilo de vida poco saludable y su manejo implica cambios en la dieta, ejercicio y, a veces, medicamentos.\n",
    "El objetivo del presenta EDA es identificar patrones, relaciones y posibles predictores del síndrome metabólico, así como comprender cómo estos factores influyen en su aparición o desarrollo, y proporcionar información variada sobre características médicas y demográficas de individuos, con el propósito de investigar y comprender mejor los factores asociados al síndrome metabólico y posiblemente ofrecer información relevante para su diagnóstico, prevención o tratamiento."
   ]
  },
  {
   "cell_type": "markdown",
   "metadata": {},
   "source": [
    "### HIPÓTESIS"
   ]
  },
  {
   "cell_type": "markdown",
   "metadata": {},
   "source": [
    "**Hipotesis Principal** = Identificar patrones, relaciones y posibles predictores del síndrome metabólico, así como comprender cómo estos factores influyen en su aparición o desarrollo."
   ]
  },
  {
   "cell_type": "markdown",
   "metadata": {},
   "source": [
    "**Hipotesis_1** = ¿Las personas obesesas tienen mayor riesgo de sufrir de Sindrome Metabólico?\n",
    "\n",
    "**Hipotesis_2** = ¿Cual es el impacto de altos niveles de azúcar y lípidos en el Sindrome Metábolico?\n",
    "\n",
    "**Hipotesis_3** = Determinar la prevalencia del síndrome metabólico en diferentes grupos demográficos (edad, sexo, raza, estado civil, ingresos, etc.)"
   ]
  },
  {
   "cell_type": "markdown",
   "metadata": {},
   "source": [
    "## OBTENCIÓN DE LOS DATOS"
   ]
  },
  {
   "cell_type": "markdown",
   "metadata": {},
   "source": [
    "### DATASETS Y FUENTES ALTERNATIVAS DE DATOS"
   ]
  },
  {
   "cell_type": "markdown",
   "metadata": {},
   "source": [
    "Incluye aquí una vista del dataset o datasets de los que partirás para poder evaluar tu hipótesis. <br>\n",
    "También incluye el origen de estos datos y su fuente."
   ]
  },
  {
   "cell_type": "code",
   "execution_count": 7,
   "metadata": {},
   "outputs": [],
   "source": [
    "import pandas as pd\n",
    "df_sindrome_metabolico = pd.read_csv(\".\\MetabolicSyndrome.csv\")\n"
   ]
  },
  {
   "cell_type": "markdown",
   "metadata": {},
   "source": [
    "Muestra mediante un head() los principales datasets con los que vas a trabajar"
   ]
  },
  {
   "cell_type": "code",
   "execution_count": 5,
   "metadata": {},
   "outputs": [
    {
     "data": {
      "text/html": [
       "<div>\n",
       "<style scoped>\n",
       "    .dataframe tbody tr th:only-of-type {\n",
       "        vertical-align: middle;\n",
       "    }\n",
       "\n",
       "    .dataframe tbody tr th {\n",
       "        vertical-align: top;\n",
       "    }\n",
       "\n",
       "    .dataframe thead th {\n",
       "        text-align: right;\n",
       "    }\n",
       "</style>\n",
       "<table border=\"1\" class=\"dataframe\">\n",
       "  <thead>\n",
       "    <tr style=\"text-align: right;\">\n",
       "      <th></th>\n",
       "      <th>seqn</th>\n",
       "      <th>Age</th>\n",
       "      <th>Sex</th>\n",
       "      <th>Marital</th>\n",
       "      <th>Income</th>\n",
       "      <th>Race</th>\n",
       "      <th>WaistCirc</th>\n",
       "      <th>BMI</th>\n",
       "      <th>Albuminuria</th>\n",
       "      <th>UrAlbCr</th>\n",
       "      <th>UricAcid</th>\n",
       "      <th>BloodGlucose</th>\n",
       "      <th>HDL</th>\n",
       "      <th>Triglycerides</th>\n",
       "      <th>MetabolicSyndrome</th>\n",
       "    </tr>\n",
       "  </thead>\n",
       "  <tbody>\n",
       "    <tr>\n",
       "      <th>0</th>\n",
       "      <td>62161</td>\n",
       "      <td>22</td>\n",
       "      <td>Male</td>\n",
       "      <td>Single</td>\n",
       "      <td>8200.0</td>\n",
       "      <td>White</td>\n",
       "      <td>81.0</td>\n",
       "      <td>23.3</td>\n",
       "      <td>0</td>\n",
       "      <td>3.88</td>\n",
       "      <td>4.9</td>\n",
       "      <td>92</td>\n",
       "      <td>41</td>\n",
       "      <td>84</td>\n",
       "      <td>0</td>\n",
       "    </tr>\n",
       "    <tr>\n",
       "      <th>1</th>\n",
       "      <td>62164</td>\n",
       "      <td>44</td>\n",
       "      <td>Female</td>\n",
       "      <td>Married</td>\n",
       "      <td>4500.0</td>\n",
       "      <td>White</td>\n",
       "      <td>80.1</td>\n",
       "      <td>23.2</td>\n",
       "      <td>0</td>\n",
       "      <td>8.55</td>\n",
       "      <td>4.5</td>\n",
       "      <td>82</td>\n",
       "      <td>28</td>\n",
       "      <td>56</td>\n",
       "      <td>0</td>\n",
       "    </tr>\n",
       "    <tr>\n",
       "      <th>2</th>\n",
       "      <td>62169</td>\n",
       "      <td>21</td>\n",
       "      <td>Male</td>\n",
       "      <td>Single</td>\n",
       "      <td>800.0</td>\n",
       "      <td>Asian</td>\n",
       "      <td>69.6</td>\n",
       "      <td>20.1</td>\n",
       "      <td>0</td>\n",
       "      <td>5.07</td>\n",
       "      <td>5.4</td>\n",
       "      <td>107</td>\n",
       "      <td>43</td>\n",
       "      <td>78</td>\n",
       "      <td>0</td>\n",
       "    </tr>\n",
       "    <tr>\n",
       "      <th>3</th>\n",
       "      <td>62172</td>\n",
       "      <td>43</td>\n",
       "      <td>Female</td>\n",
       "      <td>Single</td>\n",
       "      <td>2000.0</td>\n",
       "      <td>Black</td>\n",
       "      <td>120.4</td>\n",
       "      <td>33.3</td>\n",
       "      <td>0</td>\n",
       "      <td>5.22</td>\n",
       "      <td>5.0</td>\n",
       "      <td>104</td>\n",
       "      <td>73</td>\n",
       "      <td>141</td>\n",
       "      <td>0</td>\n",
       "    </tr>\n",
       "    <tr>\n",
       "      <th>4</th>\n",
       "      <td>62177</td>\n",
       "      <td>51</td>\n",
       "      <td>Male</td>\n",
       "      <td>Married</td>\n",
       "      <td>NaN</td>\n",
       "      <td>Asian</td>\n",
       "      <td>81.1</td>\n",
       "      <td>20.1</td>\n",
       "      <td>0</td>\n",
       "      <td>8.13</td>\n",
       "      <td>5.0</td>\n",
       "      <td>95</td>\n",
       "      <td>43</td>\n",
       "      <td>126</td>\n",
       "      <td>0</td>\n",
       "    </tr>\n",
       "    <tr>\n",
       "      <th>5</th>\n",
       "      <td>62178</td>\n",
       "      <td>80</td>\n",
       "      <td>Male</td>\n",
       "      <td>Widowed</td>\n",
       "      <td>300.0</td>\n",
       "      <td>White</td>\n",
       "      <td>112.5</td>\n",
       "      <td>28.5</td>\n",
       "      <td>0</td>\n",
       "      <td>9.79</td>\n",
       "      <td>4.8</td>\n",
       "      <td>105</td>\n",
       "      <td>47</td>\n",
       "      <td>100</td>\n",
       "      <td>0</td>\n",
       "    </tr>\n",
       "    <tr>\n",
       "      <th>6</th>\n",
       "      <td>62184</td>\n",
       "      <td>26</td>\n",
       "      <td>Male</td>\n",
       "      <td>Single</td>\n",
       "      <td>9000.0</td>\n",
       "      <td>Black</td>\n",
       "      <td>78.6</td>\n",
       "      <td>22.1</td>\n",
       "      <td>0</td>\n",
       "      <td>9.21</td>\n",
       "      <td>5.4</td>\n",
       "      <td>87</td>\n",
       "      <td>61</td>\n",
       "      <td>40</td>\n",
       "      <td>0</td>\n",
       "    </tr>\n",
       "    <tr>\n",
       "      <th>7</th>\n",
       "      <td>62189</td>\n",
       "      <td>30</td>\n",
       "      <td>Female</td>\n",
       "      <td>Married</td>\n",
       "      <td>6200.0</td>\n",
       "      <td>Asian</td>\n",
       "      <td>80.2</td>\n",
       "      <td>22.4</td>\n",
       "      <td>0</td>\n",
       "      <td>8.78</td>\n",
       "      <td>6.7</td>\n",
       "      <td>83</td>\n",
       "      <td>48</td>\n",
       "      <td>91</td>\n",
       "      <td>0</td>\n",
       "    </tr>\n",
       "    <tr>\n",
       "      <th>8</th>\n",
       "      <td>62191</td>\n",
       "      <td>70</td>\n",
       "      <td>Male</td>\n",
       "      <td>Divorced</td>\n",
       "      <td>1000.0</td>\n",
       "      <td>Black</td>\n",
       "      <td>NaN</td>\n",
       "      <td>NaN</td>\n",
       "      <td>1</td>\n",
       "      <td>45.67</td>\n",
       "      <td>5.4</td>\n",
       "      <td>96</td>\n",
       "      <td>35</td>\n",
       "      <td>75</td>\n",
       "      <td>0</td>\n",
       "    </tr>\n",
       "    <tr>\n",
       "      <th>9</th>\n",
       "      <td>62195</td>\n",
       "      <td>35</td>\n",
       "      <td>Male</td>\n",
       "      <td>NaN</td>\n",
       "      <td>2500.0</td>\n",
       "      <td>Black</td>\n",
       "      <td>99.0</td>\n",
       "      <td>28.2</td>\n",
       "      <td>0</td>\n",
       "      <td>2.21</td>\n",
       "      <td>6.7</td>\n",
       "      <td>94</td>\n",
       "      <td>46</td>\n",
       "      <td>86</td>\n",
       "      <td>0</td>\n",
       "    </tr>\n",
       "  </tbody>\n",
       "</table>\n",
       "</div>"
      ],
      "text/plain": [
       "    seqn  Age     Sex   Marital  Income   Race  WaistCirc   BMI  Albuminuria  \\\n",
       "0  62161   22    Male    Single  8200.0  White       81.0  23.3            0   \n",
       "1  62164   44  Female   Married  4500.0  White       80.1  23.2            0   \n",
       "2  62169   21    Male    Single   800.0  Asian       69.6  20.1            0   \n",
       "3  62172   43  Female    Single  2000.0  Black      120.4  33.3            0   \n",
       "4  62177   51    Male   Married     NaN  Asian       81.1  20.1            0   \n",
       "5  62178   80    Male   Widowed   300.0  White      112.5  28.5            0   \n",
       "6  62184   26    Male    Single  9000.0  Black       78.6  22.1            0   \n",
       "7  62189   30  Female   Married  6200.0  Asian       80.2  22.4            0   \n",
       "8  62191   70    Male  Divorced  1000.0  Black        NaN   NaN            1   \n",
       "9  62195   35    Male       NaN  2500.0  Black       99.0  28.2            0   \n",
       "\n",
       "   UrAlbCr  UricAcid  BloodGlucose  HDL  Triglycerides  MetabolicSyndrome  \n",
       "0     3.88       4.9            92   41             84                  0  \n",
       "1     8.55       4.5            82   28             56                  0  \n",
       "2     5.07       5.4           107   43             78                  0  \n",
       "3     5.22       5.0           104   73            141                  0  \n",
       "4     8.13       5.0            95   43            126                  0  \n",
       "5     9.79       4.8           105   47            100                  0  \n",
       "6     9.21       5.4            87   61             40                  0  \n",
       "7     8.78       6.7            83   48             91                  0  \n",
       "8    45.67       5.4            96   35             75                  0  \n",
       "9     2.21       6.7            94   46             86                  0  "
      ]
     },
     "execution_count": 5,
     "metadata": {},
     "output_type": "execute_result"
    }
   ],
   "source": [
    "df_sindrome_metabolico.head(10)"
   ]
  },
  {
   "cell_type": "code",
   "execution_count": 6,
   "metadata": {},
   "outputs": [
    {
     "name": "stdout",
     "output_type": "stream",
     "text": [
      "<class 'pandas.core.frame.DataFrame'>\n",
      "RangeIndex: 2401 entries, 0 to 2400\n",
      "Data columns (total 15 columns):\n",
      " #   Column             Non-Null Count  Dtype  \n",
      "---  ------             --------------  -----  \n",
      " 0   seqn               2401 non-null   int64  \n",
      " 1   Age                2401 non-null   int64  \n",
      " 2   Sex                2401 non-null   object \n",
      " 3   Marital            2193 non-null   object \n",
      " 4   Income             2284 non-null   float64\n",
      " 5   Race               2401 non-null   object \n",
      " 6   WaistCirc          2316 non-null   float64\n",
      " 7   BMI                2375 non-null   float64\n",
      " 8   Albuminuria        2401 non-null   int64  \n",
      " 9   UrAlbCr            2401 non-null   float64\n",
      " 10  UricAcid           2401 non-null   float64\n",
      " 11  BloodGlucose       2401 non-null   int64  \n",
      " 12  HDL                2401 non-null   int64  \n",
      " 13  Triglycerides      2401 non-null   int64  \n",
      " 14  MetabolicSyndrome  2401 non-null   int64  \n",
      "dtypes: float64(5), int64(7), object(3)\n",
      "memory usage: 281.5+ KB\n"
     ]
    }
   ],
   "source": [
    "df_sindrome_metabolico.info()"
   ]
  }
 ],
 "metadata": {
  "kernelspec": {
   "display_name": "Python 3.7.4 64-bit",
   "language": "python",
   "name": "python3"
  },
  "language_info": {
   "codemirror_mode": {
    "name": "ipython",
    "version": 3
   },
   "file_extension": ".py",
   "mimetype": "text/x-python",
   "name": "python",
   "nbconvert_exporter": "python",
   "pygments_lexer": "ipython3",
   "version": "3.11.6"
  },
  "orig_nbformat": 4,
  "vscode": {
   "interpreter": {
    "hash": "90139cb9a825bf3d63f6f6704e828dbd1ff7edbd4d0c6e906a71235d6efc74af"
   }
  }
 },
 "nbformat": 4,
 "nbformat_minor": 2
}
